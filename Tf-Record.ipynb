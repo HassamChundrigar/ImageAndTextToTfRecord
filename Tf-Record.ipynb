{
 "cells": [
  {
   "cell_type": "code",
   "execution_count": 1,
   "metadata": {},
   "outputs": [],
   "source": [
    "import tensorflow as tf\n",
    "import numpy as np\n",
    "import matplotlib.pyplot as plt\n",
    "import cv2 as cv\n",
    "from random import shuffle\n",
    "import glob\n",
    "import sys\n",
    "import codecs\n",
    "import utils"
   ]
  },
  {
   "cell_type": "markdown",
   "metadata": {},
   "source": [
    "# Write Images and Text To TfRecord"
   ]
  },
  {
   "cell_type": "code",
   "execution_count": null,
   "metadata": {},
   "outputs": [],
   "source": [
    "def _int64_feature(value):\n",
    "    return tf.train.Feature(int64_list=tf.train.Int64List(value=[value]))"
   ]
  },
  {
   "cell_type": "code",
   "execution_count": null,
   "metadata": {},
   "outputs": [],
   "source": [
    "def _bytes_feature(value):\n",
    "    return tf.train.Feature(bytes_list=tf.train.BytesList(value=[value]))"
   ]
  },
  {
   "cell_type": "code",
   "execution_count": null,
   "metadata": {},
   "outputs": [],
   "source": [
    "def convert_to_TFrecord(load_dir,save_dir):\n",
    "    '''Convert Images and Their Corresponding Text to TFrecord \n",
    "       Train Set 60% Validation set 20% Test set 20%\n",
    "    '''\n",
    "    #Directory for images and text\n",
    "    image_train_path = load_dir + '/*.jpg'\n",
    "    text_train_path = load_dir + '/*.txt'\n",
    "    \n",
    "    #All images and Text Paths\n",
    "    img_addrs = glob.glob(image_train_path)\n",
    "    text_addrs = glob.glob(text_train_path)\n",
    "    \n",
    "    # to shuffle data\n",
    "    c = list(zip(img_addrs, text_addrs))\n",
    "    shuffle(c)\n",
    "    img_addrs, text_addrs = zip(*c)\n",
    "    \n",
    "    # Divide the hata into 60% train, 20% validation, and 20% test\n",
    "    train_imgs = img_addrs[0:int(0.6 * len(img_addrs))]\n",
    "    train_text = text_addrs[0:int(0.6 * len(text_addrs))]\n",
    "    val_imgs = img_addrs[int(0.6 * len(img_addrs)):int(0.8 * len(img_addrs))]\n",
    "    val_text = text_addrs[int(0.6 * len(text_addrs)):int(0.8 * len(text_addrs))]\n",
    "    test_imgs = img_addrs[int(0.8 * len(img_addrs)):]\n",
    "    test_text = text_addrs[int(0.8 * len(text_addrs)):]\n",
    "    \n",
    "    #Converting Images and text into TFrecord for train,val and test Seperately\n",
    "    train_TFrecord(train_imgs, train_text, save_dir)\n",
    "    val_TFrecord(val_imgs, val_text, save_dir)\n",
    "    test_TFrecord(test_imgs, test_text, save_dir)"
   ]
  },
  {
   "cell_type": "code",
   "execution_count": null,
   "metadata": {},
   "outputs": [],
   "source": [
    "def train_TFrecord(train_imgs, train_text, save_dir):\n",
    "    # address to save the TFRecords file\n",
    "    train_filename = save_dir + '/train.tfrecords'  \n",
    "    \n",
    "    # open the TFRecords file\n",
    "    with tf.python_io.TFRecordWriter(train_filename) as writer:\n",
    "        for i in range(len(train_imgs)):\n",
    "            \n",
    "            #Print Converted Status\n",
    "            if not i%100:\n",
    "                print('converted {}/{}'.format(i,len(train_imgs)))\n",
    "                \n",
    "            # Load the image\n",
    "            img = utils.load_image(train_imgs[i]).astype(np.uint8)\n",
    "            label = utils.load_text(train_text[i]).astype(np.uint8)\n",
    "            # Create a feature\n",
    "            feature = {\n",
    "                'label': _bytes_feature(tf.compat.as_bytes(label.tostring())),\n",
    "                'image': _bytes_feature(tf.compat.as_bytes(img.tostring()))\n",
    "            }\n",
    "            # Create an example protocol buffer\n",
    "            example = tf.train.Example(features=tf.train.Features(feature=feature))\n",
    "        \n",
    "            # Serialize to string and write on the file\n",
    "            writer.write(example.SerializeToString())\n",
    "        \n",
    "        print('Train TFrecord Created Successfully')"
   ]
  },
  {
   "cell_type": "code",
   "execution_count": null,
   "metadata": {},
   "outputs": [],
   "source": [
    "def val_TFrecord(val_imgs, val_text, save_dir):\n",
    "    # address to save the TFRecords file\n",
    "    val_filename = save_dir + '/val.tfrecords'  \n",
    "    \n",
    "    # open the TFRecords file\n",
    "    with tf.python_io.TFRecordWriter(val_filename) as writer:\n",
    "        for i in range(len(val_imgs)):\n",
    "            \n",
    "            #Print Converted Status\n",
    "            if not i%100:\n",
    "                print('converted {}/{}'.format(i,len(val_imgs)))\n",
    "                \n",
    "            # Load the image\n",
    "            img = utils.load_image(val_imgs[i])\n",
    "            label = utils.load_text(val_text[i])\n",
    "            # Create a feature\n",
    "            feature = {\n",
    "                'label': _bytes_feature(tf.compat.as_bytes(label.tostring())),\n",
    "                'image': _bytes_feature(tf.compat.as_bytes(img.tostring()))\n",
    "            }\n",
    "            # Create an example protocol buffer\n",
    "            example = tf.train.Example(features=tf.train.Features(feature=feature))\n",
    "        \n",
    "            # Serialize to string and write on the file\n",
    "            writer.write(example.SerializeToString())\n",
    "        \n",
    "        print('Validation TFrecord Created Successfully')"
   ]
  },
  {
   "cell_type": "code",
   "execution_count": null,
   "metadata": {},
   "outputs": [],
   "source": [
    "def test_TFrecord(test_imgs, test_text, save_dir):\n",
    "    # address to save the TFRecords file\n",
    "    test_filename = save_dir + '/test.tfrecords'  \n",
    "    \n",
    "    # open the TFRecords file\n",
    "    with tf.python_io.TFRecordWriter(test_filename) as writer:\n",
    "        for i in range(len(test_imgs)):\n",
    "            \n",
    "            #Print Converted Status\n",
    "            if not i%100:\n",
    "                print('converted {}/{}'.format(i,len(test_imgs)))\n",
    "                \n",
    "            # Load the image\n",
    "            img = utils.load_image(test_imgs[i])\n",
    "            label = utils.load_text(test_text[i])\n",
    "            # Create a feature\n",
    "            feature = {\n",
    "                'label': _bytes_feature(tf.compat.as_bytes(label.tostring())),\n",
    "                'image': _bytes_feature(tf.compat.as_bytes(img.tostring()))\n",
    "            }\n",
    "            # Create an example protocol buffer\n",
    "            example = tf.train.Example(features=tf.train.Features(feature=feature))\n",
    "        \n",
    "            # Serialize to string and write on the file\n",
    "            writer.write(example.SerializeToString())\n",
    "        \n",
    "        print('Test TFrecord Created Successfully')"
   ]
  },
  {
   "cell_type": "code",
   "execution_count": null,
   "metadata": {},
   "outputs": [],
   "source": [
    "load_dir='E:/Urdu Ocr/segmentation/Augmented/1'\n",
    "save_dir='E:/Urdu Ocr/segmentation/tfrecords'\n",
    "convert_to_TFrecord(load_dir,save_dir)"
   ]
  },
  {
   "cell_type": "markdown",
   "metadata": {},
   "source": [
    "# Load TfRecord File"
   ]
  },
  {
   "cell_type": "code",
   "execution_count": null,
   "metadata": {},
   "outputs": [],
   "source": [
    "train_filename = './tfrecords/train.tfrecords'\n",
    "dataset = tf.data.TFRecordDataset(filenames=train_filename)\n",
    "dataset = dataset.map(utils.parse)\n",
    "iterator = dataset.make_one_shot_iterator()\n",
    "get_next = iterator.get_next()"
   ]
  },
  {
   "cell_type": "code",
   "execution_count": null,
   "metadata": {},
   "outputs": [],
   "source": [
    "with tf.Session() as sess:\n",
    "    img, txt = sess.run(get_next)\n",
    "    plt.imshow(img)\n",
    "    plt.show()\n",
    "    print(utils.dense_to_text(txt))"
   ]
  }
 ],
 "metadata": {
  "kernelspec": {
   "display_name": "Python 3",
   "language": "python",
   "name": "python3"
  },
  "language_info": {
   "codemirror_mode": {
    "name": "ipython",
    "version": 3
   },
   "file_extension": ".py",
   "mimetype": "text/x-python",
   "name": "python",
   "nbconvert_exporter": "python",
   "pygments_lexer": "ipython3",
   "version": "3.6.6"
  }
 },
 "nbformat": 4,
 "nbformat_minor": 2
}
